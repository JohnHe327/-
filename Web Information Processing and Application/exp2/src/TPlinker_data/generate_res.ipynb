{
 "metadata": {
  "language_info": {
   "codemirror_mode": {
    "name": "ipython",
    "version": 3
   },
   "file_extension": ".py",
   "mimetype": "text/x-python",
   "name": "python",
   "nbconvert_exporter": "python",
   "pygments_lexer": "ipython3",
   "version": "3.6.12-final"
  },
  "orig_nbformat": 2,
  "kernelspec": {
   "name": "python3",
   "display_name": "Python 3.6.12 64-bit ('TPlinker': conda)",
   "metadata": {
    "interpreter": {
     "hash": "9506c9028b0e7b98b9a0ea2ea55da100427db0fd8158fd07c06d4e1ab635c248"
    }
   }
  }
 },
 "nbformat": 4,
 "nbformat_minor": 2,
 "cells": [
  {
   "cell_type": "code",
   "execution_count": 16,
   "metadata": {},
   "outputs": [],
   "source": [
    "import re\n",
    "import json\n",
    "\n",
    "def generate_result(input_name, output_name):\n",
    "    total_test_num = 1600\n",
    "    i = 0\n",
    "    output_file = open(output_name, 'w')\n",
    "    with open(input_name) as input_file:\n",
    "        for line in input_file:\n",
    "            result_dict = json.loads(line)\n",
    "            line_id = int(result_dict['id'].split(\"_\")[-1])\n",
    "            while i < line_id:\n",
    "                output_str = 'Other&none,none'\n",
    "                output_file.write(output_str + '\\n')\n",
    "                i += 1\n",
    "\n",
    "            relation = result_dict['relation_list'][0]\n",
    "            subject = relation['subject']\n",
    "            object = relation['object']\n",
    "            predicate = relation['predicate']\n",
    "            \n",
    "            output_str = predicate + '&' + subject + ',' + object\n",
    "            output_file.write(output_str + '\\n')\n",
    "            i += 1\n",
    "        \n",
    "        while i < total_test_num:\n",
    "            output_str = 'Other'\n",
    "            output_file.write(output_str + '\\n')\n",
    "            i += 1\n",
    "\n",
    "    output_file.close()"
   ]
  },
  {
   "cell_type": "code",
   "execution_count": 17,
   "metadata": {},
   "outputs": [],
   "source": [
    "def generate_result_with_bayes(input_name, input_bayes_name, output_name):\n",
    "    total_test_num = 1600\n",
    "    i = 0\n",
    "    output_file = open(output_name, 'w')\n",
    "    input_file = open(input_name, 'r')\n",
    "    input_bayes_file = open(input_bayes_name, 'r')\n",
    "    result_bayes = input_bayes_file.readlines()\n",
    "    print(result_bayes[0].strip())\n",
    "\n",
    "    for line in input_file:\n",
    "        result_dict = json.loads(line)\n",
    "        line_id = int(result_dict['id'].split(\"_\")[-1])\n",
    "        while i < line_id:\n",
    "            output_str = result_bayes[i].strip() + '&none,none'\n",
    "            output_file.write(output_str + '\\n')\n",
    "            i += 1\n",
    "\n",
    "        relation = result_dict['relation_list'][0]\n",
    "        subject = relation['subject']\n",
    "        object = relation['object']\n",
    "        predicate = relation['predicate']\n",
    "        \n",
    "        output_str = predicate + '&' + subject + ',' + object\n",
    "        output_file.write(output_str + '\\n')\n",
    "        i += 1\n",
    "    \n",
    "    while i < total_test_num:\n",
    "        output_str = 'Other'\n",
    "        output_file.write(output_str + '\\n')\n",
    "        i += 1\n",
    "\n",
    "    output_file.close()"
   ]
  },
  {
   "cell_type": "code",
   "execution_count": 18,
   "metadata": {
    "tags": []
   },
   "outputs": [
    {
     "output_type": "stream",
     "name": "stdout",
     "text": [
      "Content-Container\n"
     ]
    }
   ],
   "source": [
    "result_name = 'test_data_res_20201216.json'\n",
    "result_bayes_name = 'bayes_output.txt'\n",
    "output_result_name = 'output.txt'\n",
    "output_result_bayes_name = 'output_with_bayes.txt'\n",
    "\n",
    "# generate_result(result_name, output_result_name)\n",
    "generate_result_with_bayes(result_name, result_bayes_name, output_result_bayes_name)"
   ]
  }
 ]
}